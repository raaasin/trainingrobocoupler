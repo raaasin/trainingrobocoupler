{
 "cells": [
  {
   "cell_type": "code",
   "execution_count": null,
   "id": "3e7c25e0",
   "metadata": {},
   "outputs": [],
   "source": []
  }
 ],
 "metadata": {
  "kernelspec": {
   "display_name": "Python 3 (ipykernel)",
   "language": "python",
   "name": "python3"
  }
 },
 "nbformat": 4,
 "nbformat_minor": 5
}
